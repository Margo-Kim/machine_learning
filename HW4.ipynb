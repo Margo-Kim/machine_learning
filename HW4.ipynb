{
 "cells": [
  {
   "attachments": {},
   "cell_type": "markdown",
   "metadata": {},
   "source": [
    "***HW4***"
   ]
  },
  {
   "cell_type": "code",
   "execution_count": 18,
   "metadata": {},
   "outputs": [],
   "source": [
    "import numpy as np\n",
    "import gzip\n",
    "import numpy as np\n",
    "from scipy.stats import mode\n",
    "from sklearn.metrics import pairwise_distances\n",
    "from sklearn.model_selection import KFold\n",
    "import matplotlib.pyplot as plt\n",
    "from sklearn.metrics import confusion_matrix, accuracy_score\n",
    "\n"
   ]
  },
  {
   "attachments": {},
   "cell_type": "markdown",
   "metadata": {},
   "source": [
    "**1. Use the Nadaraya-Watson method with the k-NN kernel function, or any other function that implements the k-NN method.**"
   ]
  },
  {
   "cell_type": "code",
   "execution_count": 8,
   "metadata": {},
   "outputs": [],
   "source": [
    "\n",
    "def load_gzipped_data(file_path):\n",
    "   \n",
    "    with gzip.open(file_path, 'rt') as file:  # Open the gzipped file in text mode\n",
    "        # Initialize lists to store labels and features\n",
    "        labels = []\n",
    "        features = []\n",
    "        \n",
    "        # Process each line in the file\n",
    "        for line in file:\n",
    "            \n",
    "            tokens = line.strip().split()\n",
    "            labels.append(int(float(tokens[0])))  # First token is the label\n",
    "            features.append([int(float((value))) for value in tokens[1:]])  # Remaining tokens are features\n",
    "            \n",
    "        # Convert lists to numpy arrays and normalize features\n",
    "        labels = np.array(labels)\n",
    "        features = np.array(features) / 255.0  # Normalize to [0, 1]\n",
    "        \n",
    "    return labels, features\n"
   ]
  },
  {
   "cell_type": "code",
   "execution_count": 9,
   "metadata": {},
   "outputs": [],
   "source": [
    "train_labels, train_features = load_gzipped_data('/Users/margokim/Downloads/zip.train.gz')\n",
    "test_labels, test_features = load_gzipped_data('/Users/margokim/Downloads/zip.test.gz')"
   ]
  },
  {
   "attachments": {},
   "cell_type": "markdown",
   "metadata": {},
   "source": [
    "**2.Using the zero-one loss function and 5-fold cross validation, estimate the average test error as a function of the tuning parameter 'k' - the number of nearest neighbors - ranging the value of k from 1 to 20.**"
   ]
  },
  {
   "cell_type": "code",
   "execution_count": 10,
   "metadata": {},
   "outputs": [],
   "source": [
    "def nadaraya_watson_knn(X_train, y_train, X_test, k=5):\n",
    "   \n",
    "    distances = pairwise_distances(X_test, X_train, metric='euclidean')\n",
    "    knn_indices = np.argsort(distances, axis=1)[:, :k]\n",
    "    knn_labels = y_train[knn_indices]\n",
    "    weights = 1 / (distances[np.arange(distances.shape[0])[:, None], knn_indices] + 1e-5)\n",
    "    weighted_labels = np.array([np.bincount(labels, weights=weight, minlength=10) for labels, weight in zip(knn_labels, weights)])\n",
    "    predictions = np.argmax(weighted_labels, axis=1)\n",
    "    return predictions\n",
    "\n",
    "def calculate_accuracy(y_true, y_pred):\n",
    "    \n",
    "    return np.mean(y_true == y_pred)\n",
    "\n",
    "predictions = nadaraya_watson_knn(train_features, train_labels, test_features, k=5)\n",
    "accuracy = calculate_accuracy(test_labels, predictions)\n"
   ]
  },
  {
   "cell_type": "code",
   "execution_count": 11,
   "metadata": {},
   "outputs": [
    {
     "name": "stdout",
     "output_type": "stream",
     "text": [
      "Model accuracy: 0.9417\n"
     ]
    }
   ],
   "source": [
    "print(f\"Model accuracy: {accuracy:.4f}\")"
   ]
  },
  {
   "cell_type": "code",
   "execution_count": 12,
   "metadata": {},
   "outputs": [
    {
     "name": "stdout",
     "output_type": "stream",
     "text": [
      "k=1: Average Test Error=0.0364\n",
      "k=2: Average Test Error=0.0354\n",
      "k=3: Average Test Error=0.0366\n",
      "k=4: Average Test Error=0.0362\n",
      "k=5: Average Test Error=0.0392\n",
      "k=6: Average Test Error=0.0381\n",
      "k=7: Average Test Error=0.0417\n",
      "k=8: Average Test Error=0.0407\n",
      "k=9: Average Test Error=0.0439\n",
      "k=10: Average Test Error=0.0432\n",
      "k=11: Average Test Error=0.0444\n",
      "k=12: Average Test Error=0.0442\n",
      "k=13: Average Test Error=0.0471\n",
      "k=14: Average Test Error=0.0471\n",
      "k=15: Average Test Error=0.0486\n",
      "k=16: Average Test Error=0.0487\n",
      "k=17: Average Test Error=0.0510\n",
      "k=18: Average Test Error=0.0513\n",
      "k=19: Average Test Error=0.0540\n",
      "k=20: Average Test Error=0.0538\n"
     ]
    }
   ],
   "source": [
    "def zero_one_loss(y_true, y_pred):\n",
    "    \n",
    "    return np.sum(y_true != y_pred)\n",
    "\n",
    "def k_fold_cross_validation_knn(X, y, k_range=range(1, 21), folds=5):\n",
    "    \n",
    "    kf = KFold(n_splits=folds, shuffle=True, random_state=42)\n",
    "    average_errors = {k: [] for k in k_range}\n",
    "    \n",
    "    for train_index, test_index in kf.split(X):\n",
    "        X_train, X_test = X[train_index], X[test_index]\n",
    "        y_train, y_test = y[train_index], y[test_index]\n",
    "        \n",
    "        for k in k_range:\n",
    "            predictions = nadaraya_watson_knn(X_train, y_train, X_test, k=k)\n",
    "            loss = zero_one_loss(y_test, predictions)\n",
    "            average_errors[k].append(loss)\n",
    "    \n",
    "    # Compute the average zero-one loss for each 'k'\n",
    "    for k in average_errors:\n",
    "        average_errors[k] = np.mean(average_errors[k]) / len(y_test)  # Normalize by test set size\n",
    "    \n",
    "    return average_errors\n",
    "\n",
    "\n",
    "k_range = range(1, 21)\n",
    "average_test_errors = k_fold_cross_validation_knn(train_features, train_labels, k_range=k_range, folds=5)\n",
    "\n",
    "# Print average test errors for each 'k'\n",
    "for k, error in average_test_errors.items():\n",
    "    print(f\"k={k}: Average Test Error={error:.4f}\")\n",
    "\n"
   ]
  },
  {
   "attachments": {},
   "cell_type": "markdown",
   "metadata": {},
   "source": [
    "**3.Plot the estimated average test error as a function of 'k' with error bars representing its standard error.**"
   ]
  },
  {
   "cell_type": "code",
   "execution_count": 14,
   "metadata": {},
   "outputs": [
    {
     "name": "stderr",
     "output_type": "stream",
     "text": [
      "/var/folders/qv/b315g44s20xbflxhcr30rytc0000gn/T/ipykernel_31716/3725611524.py:29: UserWarning: linestyle is redundantly defined by the 'linestyle' keyword argument and the fmt string \"-o\" (-> linestyle='-'). The keyword argument will take precedence.\n",
      "  plt.errorbar(ks, average_errors_list, yerr=std_errors_list, fmt='-o', capsize=5, capthick=2, ecolor='r', color='blue', marker='s', markersize=5, linestyle='-', linewidth=1, label='Average Test Error')\n",
      "/var/folders/qv/b315g44s20xbflxhcr30rytc0000gn/T/ipykernel_31716/3725611524.py:29: UserWarning: marker is redundantly defined by the 'marker' keyword argument and the fmt string \"-o\" (-> marker='o'). The keyword argument will take precedence.\n",
      "  plt.errorbar(ks, average_errors_list, yerr=std_errors_list, fmt='-o', capsize=5, capthick=2, ecolor='r', color='blue', marker='s', markersize=5, linestyle='-', linewidth=1, label='Average Test Error')\n"
     ]
    },
    {
     "data": {
      "image/png": "[encoded data removed]",
      "text/plain": [
       "<Figure size 1000x600 with 1 Axes>"
      ]
     },
     "metadata": {},
     "output_type": "display_data"
    }
   ],
   "source": [
    "def k_fold_cross_validation_knn(X, y, k_range=range(1, 21), folds=5):\n",
    "    kf = KFold(n_splits=folds, shuffle=True, random_state=42)\n",
    "    errors = {k: [] for k in k_range}\n",
    "    \n",
    "    for train_index, test_index in kf.split(X):\n",
    "        X_train, X_test = X[train_index], X[test_index]\n",
    "        y_train, y_test = y[train_index], y[test_index]\n",
    "        \n",
    "        for k in k_range:\n",
    "            predictions = nadaraya_watson_knn(X_train, y_train, X_test, k)\n",
    "            loss = zero_one_loss(y_test, predictions)\n",
    "            errors[k].append(loss)\n",
    "    \n",
    "    # Calculate average error and standard error for each k\n",
    "    average_errors = {k: np.mean(errors[k]) / len(y_test) for k in k_range}\n",
    "    std_errors = {k: np.std(errors[k], ddof=1) / np.sqrt(len(errors[k])) for k in k_range} # Using ddof=1 for sample standard deviation\n",
    "    \n",
    "    return average_errors, std_errors\n",
    "\n",
    "\n",
    "average_errors, std_errors = k_fold_cross_validation_knn(train_features, train_labels, k_range=k_range, folds=5)\n",
    "\n",
    "\n",
    "ks = list(k_range)\n",
    "average_errors_list = [average_errors[k] for k in ks]\n",
    "std_errors_list = [std_errors[k] for k in ks]\n",
    "\n",
    "plt.figure(figsize=(10, 6))\n",
    "plt.errorbar(ks, average_errors_list, yerr=std_errors_list, fmt='-o', capsize=5, capthick=2, ecolor='r', color='blue', marker='s', markersize=5, linestyle='-', linewidth=1, label='Average Test Error')\n",
    "plt.title('Average Test Error vs. Number of Neighbors (k) with Standard Error')\n",
    "plt.xlabel('Number of Neighbors (k)')\n",
    "plt.ylabel('Average Test Error')\n",
    "plt.xticks(ks)\n",
    "plt.legend()\n",
    "plt.grid(True)\n",
    "plt.show()"
   ]
  },
  {
   "attachments": {},
   "cell_type": "markdown",
   "metadata": {},
   "source": [
    "**4.Apply the one-standard error rule to select a final value for 'k'.**"
   ]
  },
  {
   "cell_type": "code",
   "execution_count": 15,
   "metadata": {},
   "outputs": [
    {
     "name": "stdout",
     "output_type": "stream",
     "text": [
      "Selected k according to the one-standard error rule: 20\n"
     ]
    }
   ],
   "source": [
    "# Assuming average_errors and std_errors have been calculated\n",
    "\n",
    "# Step 1: Identify the Best Model\n",
    "min_error_k = min(average_errors, key=average_errors.get)\n",
    "min_error = average_errors[min_error_k]\n",
    "min_error_std = std_errors[min_error_k]\n",
    "\n",
    "# Step 2: Apply the One-Standard Error Rule\n",
    "threshold = min_error + min_error_std\n",
    "candidates = {k: error for k, error in average_errors.items() if error <= threshold}\n",
    "\n",
    "# Simplicity is defined by larger k values in k-NN\n",
    "final_k = max(candidates, key=int)\n",
    "print(f\"Selected k according to the one-standard error rule: {final_k}\")\n"
   ]
  },
  {
   "attachments": {},
   "cell_type": "markdown",
   "metadata": {},
   "source": [
    "**5. Fit a final k-NN model using the full training data set and using the selected value for 'k'.**"
   ]
  },
  {
   "cell_type": "code",
   "execution_count": 16,
   "metadata": {},
   "outputs": [
    {
     "name": "stdout",
     "output_type": "stream",
     "text": [
      "Final k-NN model with k=20 has an accuracy of 0.9228 on the test set.\n"
     ]
    }
   ],
   "source": [
    "# Define the k-NN model with Nadaraya-Watson kernel using the selected k\n",
    "def nadaraya_watson_knn_final(X_train, y_train, X_test, k):\n",
    "    distances = pairwise_distances(X_test, X_train, metric='euclidean')\n",
    "    knn_indices = np.argsort(distances, axis=1)[:, :k]\n",
    "    knn_labels = y_train[knn_indices]\n",
    "    weights = 1 / (distances[np.arange(distances.shape[0])[:, None], knn_indices] + 1e-5)\n",
    "    weighted_labels = np.array([np.argmax(np.bincount(labels, weights=weight)) for labels, weight in zip(knn_labels, weights)])\n",
    "    return weighted_labels\n",
    "\n",
    "# Fit the model on the full training set\n",
    "final_k_predictions = nadaraya_watson_knn_final(train_features, train_labels, test_features, final_k)\n",
    "\n",
    "# Evaluate the model (optional)\n",
    "# Here we use zero-one loss as an example of evaluation metric\n",
    "final_model_error = zero_one_loss(test_labels, final_k_predictions)\n",
    "final_model_accuracy = 1 - (final_model_error / len(test_labels))\n",
    "\n",
    "print(f\"Final k-NN model with k={final_k} has an accuracy of {final_model_accuracy:.4f} on the test set.\")\n"
   ]
  },
  {
   "attachments": {},
   "cell_type": "markdown",
   "metadata": {},
   "source": [
    "**6.Using the test data set, compute a confusion matrix and an estimate of conditional test error (using the zero-one loss).**"
   ]
  },
  {
   "cell_type": "code",
   "execution_count": 19,
   "metadata": {},
   "outputs": [
    {
     "name": "stdout",
     "output_type": "stream",
     "text": [
      "Confusion Matrix:\n",
      " [[354   0   2   0   1   0   1   0   0   1]\n",
      " [  0 257   0   0   3   0   3   0   0   1]\n",
      " [  8   2 175   2   1   0   3   2   5   0]\n",
      " [  4   0   2 151   0   3   0   1   3   2]\n",
      " [  1   3   4   0 168   0   2   2   0  20]\n",
      " [  8   0   2   5   0 135   1   0   4   5]\n",
      " [  2   1   3   0   2   1 161   0   0   0]\n",
      " [  0   4   1   0   4   0   0 133   2   3]\n",
      " [  4   1   0   5   0   2   2   2 148   2]\n",
      " [  1   1   0   0   1   0   0   2   2 170]]\n"
     ]
    }
   ],
   "source": [
    "conf_matrix = confusion_matrix(test_labels, final_k_predictions)\n",
    "print(\"Confusion Matrix:\\n\", conf_matrix)"
   ]
  },
  {
   "cell_type": "code",
   "execution_count": 20,
   "metadata": {},
   "outputs": [
    {
     "name": "stdout",
     "output_type": "stream",
     "text": [
      "Conditional Test Errors by Class:\n",
      " {0: 0.013927576601671309, 1: 0.026515151515151516, 2: 0.11616161616161616, 3: 0.09036144578313253, 4: 0.16, 5: 0.15625, 6: 0.052941176470588235, 7: 0.09523809523809523, 8: 0.10843373493975904, 9: 0.03954802259887006}\n"
     ]
    }
   ],
   "source": [
    "def conditional_test_error(y_true, y_pred):\n",
    "    unique_labels = np.unique(y_true)\n",
    "    conditional_errors = {}\n",
    "    for label in unique_labels:\n",
    "        label_mask = y_true == label\n",
    "        conditional_errors[label] = np.sum(y_pred[label_mask] != y_true[label_mask]) / np.sum(label_mask)\n",
    "    return conditional_errors\n",
    "\n",
    "# Compute Conditional Test Error\n",
    "conditional_errors = conditional_test_error(test_labels, final_k_predictions)\n",
    "print(\"Conditional Test Errors by Class:\\n\", conditional_errors)\n"
   ]
  },
  {
   "cell_type": "code",
   "execution_count": null,
   "metadata": {},
   "outputs": [],
   "source": []
  }
 ],
 "metadata": {
  "kernelspec": {
   "display_name": "base",
   "language": "python",
   "name": "python3"
  },
  "language_info": {
   "codemirror_mode": {
    "name": "ipython",
    "version": 3
   },
   "file_extension": ".py",
   "mimetype": "text/x-python",
   "name": "python",
   "nbconvert_exporter": "python",
   "pygments_lexer": "ipython3",
   "version": "3.11.6"
  },
  "orig_nbformat": 4
 },
 "nbformat": 4,
 "nbformat_minor": 2
}
